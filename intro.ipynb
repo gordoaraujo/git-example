{
  "nbformat": 4,
  "nbformat_minor": 0,
  "metadata": {
    "colab": {
      "name": "intro.ipynb",
      "provenance": [],
      "authorship_tag": "ABX9TyPbQEAxMLctLxpOk3ilCSWK",
      "include_colab_link": true
    },
    "kernelspec": {
      "name": "python3",
      "display_name": "Python 3"
    },
    "language_info": {
      "name": "python"
    }
  },
  "cells": [
    {
      "cell_type": "markdown",
      "metadata": {
        "id": "view-in-github",
        "colab_type": "text"
      },
      "source": [
        "<a href=\"https://colab.research.google.com/github/gordoaraujo/git-example/blob/master/intro.ipynb\" target=\"_parent\"><img src=\"https://colab.research.google.com/assets/colab-badge.svg\" alt=\"Open In Colab\"/></a>"
      ]
    },
    {
      "cell_type": "markdown",
      "source": [
        "# My first Colab notebook\n",
        "\n",
        "*   It is recommended to run from top to bottom and not run all (Runtime > Run all)\n",
        "*   Runtime > Restart Runtime : Restarts the notebook and erease the memory.\n",
        "*   Notebook contains only text. \n",
        "*   Change run type time > Access GPU\n",
        "* You can add code or text by clicking \"+ Code\" or \"+ Text\" buttons\n",
        "* The text uses markdown, you can add *italics*, **bold**, etc.\n",
        "\n"
      ],
      "metadata": {
        "id": "wJqOaM7faDhb"
      }
    },
    {
      "cell_type": "code",
      "execution_count": 2,
      "metadata": {
        "id": "R2wi12ZMYcvV"
      },
      "outputs": [],
      "source": [
        "a = 3\n",
        "b = 3\n",
        "c = a + b"
      ]
    },
    {
      "cell_type": "code",
      "source": [
        "print(c)"
      ],
      "metadata": {
        "colab": {
          "base_uri": "https://localhost:8080/"
        },
        "id": "ylld6MmhZFAF",
        "outputId": "ac46ffa2-f7d9-4deb-cd28-fb1ea4b43a39"
      },
      "execution_count": 3,
      "outputs": [
        {
          "output_type": "stream",
          "name": "stdout",
          "text": [
            "6\n"
          ]
        }
      ]
    }
  ]
}